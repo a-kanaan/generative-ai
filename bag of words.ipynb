{
 "cells": [
  {
   "cell_type": "code",
   "execution_count": 1,
   "id": "a76858e4-595e-4a9c-beca-750b4d884992",
   "metadata": {},
   "outputs": [
    {
     "name": "stdout",
     "output_type": "stream",
     "text": [
      "Vocabulary: ['coding', 'fun', 'i', 'in', 'is', 'learning', 'love', 'machine', 'python']\n",
      "Document 1 BoW vector: [0, 0, 1, 0, 0, 1, 1, 1, 0]\n",
      "Document 2 BoW vector: [0, 1, 0, 0, 1, 1, 0, 1, 0]\n",
      "Document 3 BoW vector: [1, 0, 1, 1, 0, 0, 1, 0, 1]\n"
     ]
    }
   ],
   "source": [
    "# Sample documents\n",
    "documents = [\n",
    "    \"I love machine learning\",\n",
    "    \"Machine learning is fun\",\n",
    "    \"I love coding in Python\"\n",
    "]\n",
    "\n",
    "# Step 1: Build vocabulary (unique words across all documents)\n",
    "vocab = set()\n",
    "for doc in documents:\n",
    "    words = doc.lower().split()\n",
    "    vocab.update(words)\n",
    "\n",
    "vocab = sorted(vocab)  # sorted list of unique words\n",
    "print(\"Vocabulary:\", vocab)\n",
    "\n",
    "# Step 2: Create Bag of Words vectors for each document\n",
    "bow_vectors = []\n",
    "\n",
    "for doc in documents:\n",
    "    words = doc.lower().split()\n",
    "    vector = [words.count(word) for word in vocab]\n",
    "    bow_vectors.append(vector)\n",
    "\n",
    "# Display Bag of Words vectors\n",
    "for i, vec in enumerate(bow_vectors):\n",
    "    print(f\"Document {i+1} BoW vector: {vec}\")\n"
   ]
  }
 ],
 "metadata": {
  "kernelspec": {
   "display_name": "Python 3 (ipykernel)",
   "language": "python",
   "name": "python3"
  },
  "language_info": {
   "codemirror_mode": {
    "name": "ipython",
    "version": 3
   },
   "file_extension": ".py",
   "mimetype": "text/x-python",
   "name": "python",
   "nbconvert_exporter": "python",
   "pygments_lexer": "ipython3",
   "version": "3.8.13"
  }
 },
 "nbformat": 4,
 "nbformat_minor": 5
}
